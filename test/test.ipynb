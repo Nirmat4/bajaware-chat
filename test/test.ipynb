{
 "cells": [
  {
   "cell_type": "code",
   "execution_count": 2,
   "id": "8bebb85a",
   "metadata": {},
   "outputs": [],
   "source": [
    "import pandas as pd\n",
    "df=pd.read_csv('../database/inventario_reportes.csv', delimiter=\",\")"
   ]
  },
  {
   "cell_type": "code",
   "execution_count": 3,
   "id": "94e99c67",
   "metadata": {},
   "outputs": [],
   "source": [
    "import re\n",
    "def clean_text(text):\n",
    "    text=str(text).lower()\n",
    "    text=re.sub(r'[^\\w\\s]', '', text)\n",
    "    return text.strip()\n",
    "\n",
    "df['Nombre_limpio']=df['REPORTE'].apply(clean_text)\n",
    "df['Descripcion_limpia']=df['DESCRIPCION_ESP'].apply(clean_text)"
   ]
  },
  {
   "cell_type": "code",
   "execution_count": 4,
   "id": "14bf3483",
   "metadata": {},
   "outputs": [
    {
     "data": {
      "application/vnd.jupyter.widget-view+json": {
       "model_id": "7574e373cfe24c0982cd4a9c5a560b32",
       "version_major": 2,
       "version_minor": 0
      },
      "text/plain": [
       "Batches:   0%|          | 0/50 [00:00<?, ?it/s]"
      ]
     },
     "metadata": {},
     "output_type": "display_data"
    }
   ],
   "source": [
    "from sentence_transformers import SentenceTransformer\n",
    "\n",
    "model=SentenceTransformer('../models/paraphrase-multilingual-MiniLM-L12-v2/')\n",
    "\n",
    "\n",
    "df['texto_completo']=df['Nombre_limpio'] + \". \" + df['Descripcion_limpia']\n",
    "embeddings=model.encode(df['texto_completo'].tolist(), show_progress_bar=True)"
   ]
  },
  {
   "cell_type": "code",
   "execution_count": 5,
   "id": "45ecb35f",
   "metadata": {},
   "outputs": [],
   "source": [
    "import faiss\n",
    "import numpy as np\n",
    "\n",
    "\n",
    "dimension=embeddings.shape[1]\n",
    "index=faiss.IndexFlatL2(dimension)\n",
    "index.add(embeddings.astype(np.float32))"
   ]
  },
  {
   "cell_type": "code",
   "execution_count": 6,
   "id": "e65582dd",
   "metadata": {},
   "outputs": [],
   "source": [
    "def buscar_registros(consulta, top_k=5):\n",
    "    consulta_limpia=clean_text(consulta)\n",
    "    embedding_consulta=model.encode([consulta_limpia])\n",
    "    \n",
    "    distancias, indices=index.search(embedding_consulta.astype(np.float32), top_k)\n",
    "\n",
    "    resultados=df.iloc[indices[0]].copy()\n",
    "    resultados['similitud']=1 - distancias[0] / 4\n",
    "    return resultados.sort_values(by='similitud', ascending=False)"
   ]
  },
  {
   "cell_type": "code",
   "execution_count": 7,
   "id": "4cd9efd7",
   "metadata": {},
   "outputs": [
    {
     "name": "stdout",
     "output_type": "stream",
     "text": [
      "      ID_INVENTARIO_REPORTE CLAVE_ENTIDADREGULADA          REPORTE  \\\n",
      "736                    1303                    BM              COM   \n",
      "747                     124                    BM  IPAB DEFINITIVO   \n",
      "744                    1305                    BM               CR   \n",
      "734                    1304                    BM              CNR   \n",
      "1449                    418                   SOF             ICAP   \n",
      "\n",
      "                 DESCRIPCION_ESP  similitud  \n",
      "736         Tabla IPAB Comercial  -1.429139  \n",
      "747   Cuotas IPAB Saldos Diarios  -1.680683  \n",
      "744                Tabla IPAB CR  -1.798694  \n",
      "734               Tabla IPAB CNR  -1.966000  \n",
      "1449  Reporte Interno SOFOM ICAP  -2.184722  \n"
     ]
    }
   ],
   "source": [
    "resultados=buscar_registros(\"IPAB\")\n",
    "\n",
    "# Luego, usa los nombres correctos. Ejemplo:\n",
    "print(resultados[['ID_INVENTARIO_REPORTE', 'CLAVE_ENTIDADREGULADA', 'REPORTE', 'DESCRIPCION_ESP', 'similitud']])"
   ]
  }
 ],
 "metadata": {
  "kernelspec": {
   "display_name": "venv",
   "language": "python",
   "name": "python3"
  },
  "language_info": {
   "codemirror_mode": {
    "name": "ipython",
    "version": 3
   },
   "file_extension": ".py",
   "mimetype": "text/x-python",
   "name": "python",
   "nbconvert_exporter": "python",
   "pygments_lexer": "ipython3",
   "version": "3.11.11"
  }
 },
 "nbformat": 4,
 "nbformat_minor": 5
}
