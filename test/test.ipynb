{
 "cells": [
  {
   "cell_type": "code",
   "execution_count": 10,
   "id": "8bebb85a",
   "metadata": {},
   "outputs": [],
   "source": [
    "import pandas as pd\n",
    "df=pd.read_csv('../database/inventario_reportes.csv', delimiter=\",\")\n",
    "import re\n",
    "def clean_text(text):\n",
    "    text=str(text).lower()\n",
    "    text=re.sub(r'[^\\w\\s]', '', text)\n",
    "    return text.strip()\n",
    "\n",
    "df['Nombre_limpio']=df['CLAVE_REP'].apply(clean_text)\n",
    "df['Descripcion_limpia']=df['DESCRIPCION_ESP'].apply(clean_text)\n",
    "df['clave']=df['CLAVE_REP'].apply(clean_text)"
   ]
  },
  {
   "cell_type": "code",
   "execution_count": 16,
   "id": "14bf3483",
   "metadata": {},
   "outputs": [
    {
     "data": {
      "application/vnd.jupyter.widget-view+json": {
       "model_id": "4a04f00c52b642c4bad95de252679b27",
       "version_major": 2,
       "version_minor": 0
      },
      "text/plain": [
       "Batches:   0%|          | 0/50 [00:00<?, ?it/s]"
      ]
     },
     "metadata": {},
     "output_type": "display_data"
    }
   ],
   "source": [
    "from sentence_transformers import SentenceTransformer\n",
    "\n",
    "model=SentenceTransformer(\"sentence-transformers/LaBSE\")\n",
    "\n",
    "\n",
    "df['texto_completo']=df['Nombre_limpio']\n",
    "embeddings=model.encode(df['texto_completo'].tolist(), show_progress_bar=True)"
   ]
  },
  {
   "cell_type": "code",
   "execution_count": 17,
   "id": "45ecb35f",
   "metadata": {},
   "outputs": [],
   "source": [
    "import faiss\n",
    "import numpy as np\n",
    "\n",
    "# Construcción del índice (unchanged)\n",
    "dimension = embeddings.shape[1]\n",
    "index = faiss.IndexFlatL2(dimension)\n",
    "index.add(embeddings.astype(np.float32))\n",
    "\n",
    "def buscar_registros(consulta, top_k=50):\n",
    "    # Limpieza y obtención del embedding de la consulta\n",
    "    consulta_limpia = clean_text(consulta)\n",
    "    embedding_consulta = model.encode([consulta_limpia]).astype(np.float32)\n",
    "\n",
    "    # Búsqueda de los k vecinos más cercanos\n",
    "    distancias, indices = index.search(embedding_consulta, top_k)\n",
    "\n",
    "    # Conversión de distancia L2 a similitud (en rango aproximado 0–1)\n",
    "    similitudes = 1 - distancias[0] / 4\n",
    "\n",
    "    # Construcción del DataFrame de resultados\n",
    "    resultados = df.iloc[indices[0]].copy()\n",
    "    resultados['similitud'] = similitudes\n",
    "\n",
    "    # Cálculo del umbral: el promedio de todas las similitudes obtenidas\n",
    "    umbral = similitudes.mean()\n",
    "\n",
    "    # Filtrar solo aquellos con similitud > promedio\n",
    "    resultados_filtrados = resultados[resultados['similitud'] > umbral]\n",
    "\n",
    "    # Ordenar de mayor a menor similitud\n",
    "    return resultados_filtrados.sort_values(by='similitud', ascending=False)"
   ]
  },
  {
   "cell_type": "code",
   "execution_count": 18,
   "id": "4cd9efd7",
   "metadata": {},
   "outputs": [],
   "source": [
    "from tabulate import tabulate\n",
    "\n",
    "resultados = buscar_registros(\"Que reportes son RC0\")\n",
    "\n",
    "# Selecciona solo las columnas necesarias\n",
    "tabla = resultados[['CLAVE_REP', 'CLAVE_REG', 'DESCRIPCION_ESP', 'similitud']]\n",
    "\n",
    "# Imprime la tabla con encabezados y formato elegante\n",
    "with open(\"../test/table.txt\", \"w\") as file:\n",
    "    file.write(tabulate(tabla, headers='keys', tablefmt='fancy_grid', showindex=False))"
   ]
  }
 ],
 "metadata": {
  "kernelspec": {
   "display_name": "venv",
   "language": "python",
   "name": "python3"
  },
  "language_info": {
   "codemirror_mode": {
    "name": "ipython",
    "version": 3
   },
   "file_extension": ".py",
   "mimetype": "text/x-python",
   "name": "python",
   "nbconvert_exporter": "python",
   "pygments_lexer": "ipython3",
   "version": "3.11.11"
  }
 },
 "nbformat": 4,
 "nbformat_minor": 5
}
