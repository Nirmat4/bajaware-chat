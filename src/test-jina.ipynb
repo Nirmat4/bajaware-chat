{
 "cells": [
  {
   "cell_type": "code",
   "execution_count": 1,
   "id": "19a7b929",
   "metadata": {},
   "outputs": [],
   "source": [
    "import os\n",
    "import torch\n",
    "from transformers import AutoModel, AutoTokenizer\n",
    "import torch.nn.functional as F"
   ]
  },
  {
   "cell_type": "code",
   "execution_count": 2,
   "id": "1a2e4bde",
   "metadata": {},
   "outputs": [
    {
     "name": "stdout",
     "output_type": "stream",
     "text": [
      "[INFO] GPU disponible. Usaremos CUDA y limitaremos a ~3800 MiB de VRAM.\n"
     ]
    }
   ],
   "source": [
    "torch.manual_seed(42)\n",
    "\n",
    "if torch.cuda.is_available():\n",
    "    device=\"cuda\"\n",
    "    print(f\"[INFO] GPU disponible. Usaremos CUDA y limitaremos a ~3800 MiB de VRAM.\")\n",
    "else:\n",
    "    device=\"cpu\"\n",
    "    print(\"[WARN] GPU no disponible. Usando CPU sin limitación de memoria.\")"
   ]
  },
  {
   "cell_type": "code",
   "execution_count": null,
   "id": "db6eb914",
   "metadata": {},
   "outputs": [
    {
     "name": "stderr",
     "output_type": "stream",
     "text": [
      "Some parameters are on the meta device because they were offloaded to the disk.\n"
     ]
    }
   ],
   "source": [
    "model=AutoModel.from_pretrained(\n",
    "    \"../models/jina-reranker-m0\",\n",
    "    trust_remote_code=True,\n",
    "    torch_dtype=torch.float16,\n",
    "    device_map=\"auto\",\n",
    "    max_memory={\n",
    "        0: \"3500MB\"\n",
    "    }\n",
    ")\n",
    "model.eval()\n",
    "\n",
    "tokenizer=AutoTokenizer.from_pretrained(\n",
    "    \"../models/jina-reranker-m0\",\n",
    "    trust_remote_code=True\n",
    ")"
   ]
  },
  {
   "cell_type": "code",
   "execution_count": 4,
   "id": "6e2d282b",
   "metadata": {},
   "outputs": [],
   "source": [
    "table_reports=\"\"\"\n",
    "CREATE TABLE INVENTARIO_REPORTES (\n",
    "    ID_INVENTARIO_REPORTE int NOT NULL,\n",
    "    CLAVE_REP varchar(100) NOT NULL,\n",
    "    CLAVE_PAIS varchar(10) NULL,\n",
    "    CLAVE_ENTIDADREGULADA varchar(10) NULL,\n",
    "    CLAVE_REG varchar(10) NULL,\n",
    "    CLAVE_SERIE varchar(15) NULL,\n",
    "    SUBSERIE varchar(15) NULL,\n",
    "    CLAVE_GRUPO varchar(15) NULL,\n",
    "    REPORTE varchar(100) NULL,\n",
    "    CLAVE_SECCION_REP varchar(50) NULL,\n",
    "    CLAVE_VERSION_REPORTE varchar(3) NULL,\n",
    "    CLAVE_PERIODO varchar(15) NULL,\n",
    "    DESCRIPCION_ESP varchar(500) NULL,\n",
    "    CLAVE_FECHA_ENT_REP varchar(100) NULL,\n",
    "    CARACTERISTICAS varchar(500) NULL,\n",
    "    CLAVE_REGULACION_REP varchar(50) NULL,\n",
    "    FECHA_ALTA datetime NULL,\n",
    "    FECHA_ACTUALIZADA datetime NULL,\n",
    "    CLAVE_REP_GENERAL varchar(100) NULL,\n",
    "    CLASIFICACION date NULL,\n",
    "    VIGENTE INTEGER NULL,\n",
    "    CONSTRAINT PK_CLAVE_REP PRIMARY KEY (CLAVE_REP)\n",
    ")\n",
    "\"\"\"\n",
    "\n",
    "table_valid=\"\"\"\n",
    "CREATE TABLE dbo.INVENTARIO_VALIDACIONES (\n",
    "    ID_INVENTARIO_VALIDACION int NOT NULL,\n",
    "    CLAVE_VALIDACION varchar(100) NOT NULL,\n",
    "    CLAVE_PAIS varchar(10) NULL,\n",
    "    CLAVE_ENTIDADREGULADA varchar(10) NULL,\n",
    "    CLAVE_REG varchar(10) NULL,\n",
    "    CLAVE_REP varchar(100) NOT NULL,\n",
    "    ID_VALIDACION_ANT varchar(100) NULL,\n",
    "    DESCRIPCION_VALIDACION varchar(2000) NULL,\n",
    "    TIPO_VALIDACION varchar(30) NULL,\n",
    "    TIPO_VALIDACION_CALC varchar(50) NULL,\n",
    "    FECHA_ALTA datetime NULL,\n",
    "    FECHA_ACTUALIZADA datetime NULL,\n",
    "    ID_VAL varchar(15) NULL,\n",
    "    CAMPO varchar(250) NULL,\n",
    "    CONSTRAINT PK_VALIDACION PRIMARY KEY CLUSTERED (CLAVE_VALIDACION)\n",
    ")\n",
    "\"\"\"\n",
    "\n",
    "table_compuest=\"\"\"\n",
    "CREATE TABLE dbo.INVENTARIO_VALIDACIONES (\n",
    "    ID_INVENTARIO_VALIDACION int NOT NULL,\n",
    "    CLAVE_VALIDACION varchar(100) NOT NULL,\n",
    "    CLAVE_PAIS varchar(10) NULL,\n",
    "    CLAVE_ENTIDADREGULADA varchar(10) NULL,\n",
    "    CLAVE_REG varchar(10) NULL,\n",
    "    CLAVE_REP varchar(100) NOT NULL,\n",
    "    ID_VALIDACION_ANT varchar(100) NULL,\n",
    "    DESCRIPCION_VALIDACION varchar(2000) NULL,\n",
    "    TIPO_VALIDACION varchar(30) NULL,\n",
    "    TIPO_VALIDACION_CALC varchar(50) NULL,\n",
    "    FECHA_ALTA datetime NULL,\n",
    "    FECHA_ACTUALIZADA datetime NULL,\n",
    "    ID_VAL varchar(15) NULL,\n",
    "    CAMPO varchar(250) NULL,\n",
    "    CONSTRAINT PK_VALIDACION PRIMARY KEY CLUSTERED (CLAVE_VALIDACION)\n",
    ")\n",
    "\n",
    "CREATE TABLE INVENTARIO_REPORTES (\n",
    "    ID_INVENTARIO_REPORTE int NOT NULL,\n",
    "    CLAVE_REP varchar(100) NOT NULL,\n",
    "    CLAVE_PAIS varchar(10) NULL,\n",
    "    CLAVE_ENTIDADREGULADA varchar(10) NULL,\n",
    "    CLAVE_REG varchar(10) NULL,\n",
    "    CLAVE_SERIE varchar(15) NULL,\n",
    "    SUBSERIE varchar(15) NULL,\n",
    "    CLAVE_GRUPO varchar(15) NULL,\n",
    "    REPORTE varchar(100) NULL,\n",
    "    CLAVE_SECCION_REP varchar(50) NULL,\n",
    "    CLAVE_VERSION_REPORTE varchar(3) NULL,\n",
    "    CLAVE_PERIODO varchar(15) NULL,\n",
    "    DESCRIPCION_ESP varchar(500) NULL,\n",
    "    CLAVE_FECHA_ENT_REP varchar(100) NULL,\n",
    "    CARACTERISTICAS varchar(500) NULL,\n",
    "    CLAVE_REGULACION_REP varchar(50) NULL,\n",
    "    FECHA_ALTA datetime NULL,\n",
    "    FECHA_ACTUALIZADA datetime NULL,\n",
    "    CLAVE_REP_GENERAL varchar(100) NULL,\n",
    "    CLASIFICACION date NULL,\n",
    "    VIGENTE INTEGER NULL,\n",
    "    CONSTRAINT PK_CLAVE_REP PRIMARY KEY (CLAVE_REP)\n",
    ")\n",
    "\"\"\"\n",
    "\n",
    "table_client=\"\"\"\n",
    "CREATE TABLE dbo.CHI_CLIENTE (\n",
    "    ID_CLIENTE_CHI INT NOT NULL,\n",
    "    CLAVE_CLIENTE VARCHAR(50) NOT NULL,\n",
    "    SOPORTE_SLA INT NULL,\n",
    "    PMRV INT NULL,\n",
    "    CCI INT NULL,\n",
    "    P_ACTIVOS INT NULL,\n",
    "    CARTERA INT NULL,\n",
    "    ACT_PRODUCTO INT NULL,\n",
    "    SUMA INT NULL,\n",
    "    EDS INT NULL,\n",
    "    CONSTRAINT PK_CHI_CLIENTE PRIMARY KEY (CLAVE_CLIENTE)\n",
    ");\n",
    "\"\"\"\n",
    "\n",
    "table_docs={\n",
    "    \"INVENTARIO_REPORTES\": table_reports,\n",
    "    \"INVENTARIO_VALIDACIONES\": table_valid,\n",
    "    \"INVENTARIO_VALIDACIONES_COMPUESTO\": table_compuest,\n",
    "    \"CHI_CLIENTE\": table_client\n",
    "}"
   ]
  },
  {
   "cell_type": "code",
   "execution_count": 5,
   "id": "30f51cf7",
   "metadata": {},
   "outputs": [],
   "source": [
    "def choose_table(query: str) -> str:\n",
    "    pairs=[[query, schema] for schema in table_docs.values()]\n",
    "\n",
    "    with torch.no_grad():\n",
    "        scores=model.compute_score(pairs, max_length=1024, doc_type=\"text\")\n",
    "\n",
    "    best_idx=int(torch.argmax(torch.tensor(scores, device=\"cpu\")))\n",
    "    return list(table_docs.keys())[best_idx]"
   ]
  },
  {
   "cell_type": "code",
   "execution_count": 9,
   "id": "cbd27e75",
   "metadata": {},
   "outputs": [
    {
     "name": "stdout",
     "output_type": "stream",
     "text": [
      "→ “Qué reportes son de BM”  se refiere más a: INVENTARIO_REPORTES\n",
      "→ “Cuántas validaciones son de tipo INTRA”  se refiere más a: INVENTARIO_VALIDACIONES\n",
      "→ “Mostrar validaciones automáticas”  se refiere más a: INVENTARIO_VALIDACIONES\n",
      "→ “Listar informes de casas de bolsaDe los reportes de CB cuales tienen validaciones de tipo intra”  se refiere más a: INVENTARIO_VALIDACIONES_COMPUESTO\n",
      "→ “Cual es el estado de los activos de santander”  se refiere más a: INVENTARIO_VALIDACIONES_COMPUESTO\n"
     ]
    }
   ],
   "source": [
    "ejemplos=[\n",
    "    \"Qué reportes son de BM\",\n",
    "    \"Cuántas validaciones son de tipo INTRA\",\n",
    "    \"Mostrar validaciones automáticas\",\n",
    "    \"Listar informes de casas de bolsa\"\n",
    "    \"De los reportes de CB cuales tienen validaciones de tipo intra\",\n",
    "    \"Cual es el estado de los activos de santander\"\n",
    "]\n",
    "for q in ejemplos:\n",
    "    tabla=choose_table(q)\n",
    "    print(f\"→ “{q}”  se refiere más a: {tabla}\")"
   ]
  }
 ],
 "metadata": {
  "kernelspec": {
   "display_name": "venv",
   "language": "python",
   "name": "python3"
  },
  "language_info": {
   "codemirror_mode": {
    "name": "ipython",
    "version": 3
   },
   "file_extension": ".py",
   "mimetype": "text/x-python",
   "name": "python",
   "nbconvert_exporter": "python",
   "pygments_lexer": "ipython3",
   "version": "3.11.11"
  }
 },
 "nbformat": 4,
 "nbformat_minor": 5
}
