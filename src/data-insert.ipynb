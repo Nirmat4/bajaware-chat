{
 "cells": [
  {
   "cell_type": "code",
   "execution_count": 1,
   "id": "bca55053",
   "metadata": {},
   "outputs": [],
   "source": [
    "import sqlite3\n",
    "import pandas as pd"
   ]
  },
  {
   "cell_type": "code",
   "execution_count": null,
   "id": "e7ba81f7",
   "metadata": {},
   "outputs": [],
   "source": [
    "db_path='../database/bajaware.db'\n",
    "conn=sqlite3.connect(db_path)"
   ]
  },
  {
   "cell_type": "code",
   "execution_count": 2,
   "id": "aa3b84de",
   "metadata": {},
   "outputs": [
    {
     "name": "stdout",
     "output_type": "stream",
     "text": [
      "<class 'pandas.core.frame.DataFrame'>\n",
      "RangeIndex: 1598 entries, 0 to 1597\n",
      "Data columns (total 20 columns):\n",
      " #   Column                 Non-Null Count  Dtype  \n",
      "---  ------                 --------------  -----  \n",
      " 0   ID_INVENTARIO_REPORTE  1598 non-null   int64  \n",
      " 1   CLAVE_REP              1598 non-null   object \n",
      " 2   CLAVE_PAIS             1598 non-null   object \n",
      " 3   CLAVE_ENTIDADREGULADA  1598 non-null   object \n",
      " 4   CLAVE_REG              1463 non-null   object \n",
      " 5   CLAVE_SERIE            1461 non-null   object \n",
      " 6   SUBSERIE               620 non-null    object \n",
      " 7   CLAVE_GRUPO            1463 non-null   object \n",
      " 8   REPORTE                1463 non-null   object \n",
      " 9   CLAVE_SECCION_REP      1462 non-null   object \n",
      " 10  CLAVE_VERSION_REPORTE  1463 non-null   float64\n",
      " 11  CLAVE_PERIODO          1390 non-null   object \n",
      " 12  DESCRIPCION_ESP        1598 non-null   object \n",
      " 13  CLAVE_FECHA_ENT_REP    166 non-null    object \n",
      " 14  CARACTERISTICAS        194 non-null    object \n",
      " 15  CLAVE_REGULACION_REP   1004 non-null   object \n",
      " 16  FECHA_ALTA             1288 non-null   object \n",
      " 17  FECHA_ACTUALIZADA      1239 non-null   object \n",
      " 18  CLAVE_REP_GENERAL      1593 non-null   object \n",
      " 19  VIGENTE                1598 non-null   bool   \n",
      "dtypes: bool(1), float64(1), int64(1), object(17)\n",
      "memory usage: 238.9+ KB\n",
      "None\n"
     ]
    }
   ],
   "source": [
    "csv_path=\"../database/inventario_reportes.csv\"\n",
    "df=pd.read_csv(csv_path)\n",
    "df=df.drop(\"FECHA_REGULACION\", axis=1)\n",
    "print(df.info())"
   ]
  },
  {
   "cell_type": "code",
   "execution_count": 6,
   "id": "a138ec5f",
   "metadata": {},
   "outputs": [],
   "source": [
    "valores=df[\"DESCRIPCION_ESP\"].unique()\n",
    "with open(\"../test/test.txt\", \"w\") as file:\n",
    "    for i, reporte in enumerate(valores):\n",
    "        file.write(f\"{str(reporte)}, \")\n",
    "        if i%8==0:\n",
    "            file.write(\"\\n\")\n"
   ]
  },
  {
   "cell_type": "code",
   "execution_count": null,
   "id": "6f289414",
   "metadata": {},
   "outputs": [],
   "source": [
    "df.to_sql('INVENTARIO_REPORTES', conn, if_exists='append', index=False)\n",
    "conn.close()\n",
    "\n",
    "print(\"Datos importados correctamente.\")"
   ]
  },
  {
   "cell_type": "code",
   "execution_count": null,
   "id": "df3262ba",
   "metadata": {},
   "outputs": [],
   "source": [
    "csv_path=\"../database/inventario_validaciones.csv\"\n",
    "df=pd.read_csv(csv_path)\n",
    "print(df.info())"
   ]
  },
  {
   "cell_type": "code",
   "execution_count": null,
   "id": "ce19d263",
   "metadata": {},
   "outputs": [],
   "source": [
    "df.to_sql('INVENTARIO_VALIDACIONES', conn, if_exists='append', index=False)\n",
    "conn.close()\n",
    "\n",
    "print(\"Datos importados correctamente.\")"
   ]
  },
  {
   "cell_type": "code",
   "execution_count": null,
   "id": "3bb6f55e",
   "metadata": {},
   "outputs": [],
   "source": [
    "csv_path=\"../database/inventario_cliente.csv\"\n",
    "df=pd.read_csv(csv_path)\n",
    "print(df.info())"
   ]
  },
  {
   "cell_type": "code",
   "execution_count": null,
   "id": "a8c845f9",
   "metadata": {},
   "outputs": [],
   "source": [
    "df.to_sql('CLIENTE', conn, if_exists='append', index=False)\n",
    "conn.close()\n",
    "\n",
    "print(\"Datos importados correctamente.\")"
   ]
  },
  {
   "cell_type": "code",
   "execution_count": null,
   "id": "f78697bc",
   "metadata": {},
   "outputs": [],
   "source": [
    "csv_path=\"../database/inventario_chi_cliente.csv\"\n",
    "df=pd.read_csv(csv_path)\n",
    "print(df.info())"
   ]
  },
  {
   "cell_type": "code",
   "execution_count": null,
   "id": "8650ba88",
   "metadata": {},
   "outputs": [],
   "source": [
    "df.to_sql('CHI_CLIENTE', conn, if_exists='append', index=False)\n",
    "conn.close()\n",
    "\n",
    "print(\"Datos importados correctamente.\")"
   ]
  },
  {
   "cell_type": "code",
   "execution_count": null,
   "id": "fcc0c68d",
   "metadata": {},
   "outputs": [],
   "source": [
    "csv_path=\"../database/inventario_contratos_reportes.csv\"\n",
    "df=pd.read_csv(csv_path)\n",
    "print(df.info())"
   ]
  },
  {
   "cell_type": "code",
   "execution_count": null,
   "id": "4c53a33b",
   "metadata": {},
   "outputs": [],
   "source": [
    "df.to_sql('CONTRATOS_REPORTES', conn, if_exists='append', index=False)\n",
    "conn.close()\n",
    "\n",
    "print(\"Datos importados correctamente.\")"
   ]
  },
  {
   "cell_type": "code",
   "execution_count": null,
   "id": "eeaaca09",
   "metadata": {},
   "outputs": [],
   "source": [
    "csv_path=\"../database/inventario_contratos.csv\"\n",
    "df=pd.read_csv(csv_path)\n",
    "print(df.info())"
   ]
  },
  {
   "cell_type": "code",
   "execution_count": null,
   "id": "dcfc69db",
   "metadata": {},
   "outputs": [],
   "source": [
    "df.to_sql('CONTRATOS', conn, if_exists='append', index=False)\n",
    "conn.close()\n",
    "\n",
    "print(\"Datos importados correctamente.\")"
   ]
  },
  {
   "cell_type": "code",
   "execution_count": 5,
   "id": "02fa83d6",
   "metadata": {},
   "outputs": [
    {
     "name": "stdout",
     "output_type": "stream",
     "text": [
      "<class 'pandas.core.frame.DataFrame'>\n",
      "RangeIndex: 60 entries, 0 to 59\n",
      "Data columns (total 5 columns):\n",
      " #   Column      Non-Null Count  Dtype \n",
      "---  ------      --------------  ----- \n",
      " 0   Categoría   60 non-null     object\n",
      " 1   Número      60 non-null     object\n",
      " 2   Pregunta    60 non-null     object\n",
      " 3   Verificada  52 non-null     object\n",
      " 4   Función     53 non-null     object\n",
      "dtypes: object(5)\n",
      "memory usage: 2.5+ KB\n",
      "None\n"
     ]
    }
   ],
   "source": [
    "csv_path=\"../database/preguntas_jql.csv\"\n",
    "df=pd.read_csv(csv_path)\n",
    "print(df.info())"
   ]
  },
  {
   "cell_type": "code",
   "execution_count": 6,
   "id": "adbaa013",
   "metadata": {},
   "outputs": [],
   "source": [
    "valores=df[\"Pregunta\"].unique()\n",
    "with open(\"../test/test.txt\", \"w\") as file:\n",
    "    for i, reporte in enumerate(valores):\n",
    "        file.write(f\"{str(reporte)}, \")\n",
    "        if i%8==0:\n",
    "            file.write(\"\\n\")\n"
   ]
  }
 ],
 "metadata": {
  "kernelspec": {
   "display_name": "venv",
   "language": "python",
   "name": "python3"
  },
  "language_info": {
   "codemirror_mode": {
    "name": "ipython",
    "version": 3
   },
   "file_extension": ".py",
   "mimetype": "text/x-python",
   "name": "python",
   "nbconvert_exporter": "python",
   "pygments_lexer": "ipython3",
   "version": "3.11.11"
  }
 },
 "nbformat": 4,
 "nbformat_minor": 5
}
