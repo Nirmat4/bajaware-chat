{
 "cells": [
  {
   "cell_type": "code",
   "execution_count": 1,
   "id": "3831c78a",
   "metadata": {},
   "outputs": [],
   "source": [
    "import pandas as pd\n",
    "from sentence_transformers import SentenceTransformer\n",
    "import pickle\n",
    "import numpy as np\n",
    "transformer_model=SentenceTransformer(\"hiiamsid/sentence_similarity_spanish_es\")"
   ]
  },
  {
   "cell_type": "code",
   "execution_count": 2,
   "id": "2d09ee59",
   "metadata": {},
   "outputs": [
    {
     "name": "stdout",
     "output_type": "stream",
     "text": [
      "<class 'pandas.core.frame.DataFrame'>\n",
      "RangeIndex: 1598 entries, 0 to 1597\n",
      "Data columns (total 21 columns):\n",
      " #   Column                 Non-Null Count  Dtype \n",
      "---  ------                 --------------  ----- \n",
      " 0   ID_INVENTARIO_REPORTE  1598 non-null   object\n",
      " 1   CLAVE_REP              1598 non-null   object\n",
      " 2   CLAVE_PAIS             1598 non-null   object\n",
      " 3   CLAVE_ENTIDADREGULADA  1598 non-null   object\n",
      " 4   CLAVE_REG              1463 non-null   object\n",
      " 5   CLAVE_SERIE            1461 non-null   object\n",
      " 6   SUBSERIE               620 non-null    object\n",
      " 7   CLAVE_GRUPO            1463 non-null   object\n",
      " 8   REPORTE                1463 non-null   object\n",
      " 9   CLAVE_SECCION_REP      1462 non-null   object\n",
      " 10  CLAVE_VERSION_REPORTE  1463 non-null   object\n",
      " 11  CLAVE_PERIODO          1390 non-null   object\n",
      " 12  DESCRIPCION_ESP        1598 non-null   object\n",
      " 13  CLAVE_FECHA_ENT_REP    166 non-null    object\n",
      " 14  CARACTERISTICAS        194 non-null    object\n",
      " 15  CLAVE_REGULACION_REP   1004 non-null   object\n",
      " 16  FECHA_ALTA             1288 non-null   object\n",
      " 17  FECHA_ACTUALIZADA      1239 non-null   object\n",
      " 18  CLAVE_REP_GENERAL      1593 non-null   object\n",
      " 19  FECHA_REGULACION       0 non-null      object\n",
      " 20  VIGENTE                1598 non-null   object\n",
      "dtypes: object(21)\n",
      "memory usage: 262.3+ KB\n",
      "None\n"
     ]
    }
   ],
   "source": [
    "descripciones=pd.read_csv(\"../database/inventario_reportes.csv\", dtype=str)\n",
    "print(descripciones.info())"
   ]
  },
  {
   "cell_type": "code",
   "execution_count": 3,
   "id": "d61065c1",
   "metadata": {},
   "outputs": [
    {
     "name": "stdout",
     "output_type": "stream",
     "text": [
      "['AC INFORMACIÓN DE ACCIONISTAS' 'AD ACTIVOS EXTRAORDINARIOS COMPLEMENTO'\n",
      " 'AE ACTIVOS EXTRAORDINARIOS' ...\n",
      " 'Nu´mero de socios, empleados y sucursales'\n",
      " 'Requerimientos de capital por riesgos'\n",
      " 'Requerimientos de capital por riesgos']\n"
     ]
    }
   ],
   "source": [
    "print(descripciones[\"DESCRIPCION_ESP\"].values)"
   ]
  },
  {
   "cell_type": "code",
   "execution_count": 4,
   "id": "29332d52",
   "metadata": {},
   "outputs": [],
   "source": [
    "data={}\n",
    "for idx, row in descripciones.iterrows():\n",
    "    embedding=transformer_model.encode(row[\"DESCRIPCION_ESP\"])\n",
    "    data[row[\"CLAVE_REP\"]]={\n",
    "        \"CLAVE_REP\": row[\"CLAVE_REP\"],\n",
    "        \"DESCRIPCION_ESP\": row[\"DESCRIPCION_ESP\"],\n",
    "        \"EMBEDDING\": embedding.tolist()\n",
    "    }"
   ]
  },
  {
   "cell_type": "code",
   "execution_count": 5,
   "id": "f15eaeef",
   "metadata": {},
   "outputs": [],
   "source": [
    "# Guardamos en un pickle\n",
    "with open(\"embeddings.pkl\", \"wb\") as f:\n",
    "    pickle.dump(data, f)\n",
    "# Cargamos el pickle\n",
    "with open(\"embeddings.pkl\", \"rb\") as f:\n",
    "    data = pickle.load(f)"
   ]
  },
  {
   "cell_type": "code",
   "execution_count": 6,
   "id": "6e2828f2",
   "metadata": {},
   "outputs": [
    {
     "name": "stdout",
     "output_type": "stream",
     "text": [
      "Más cercanos:\n",
      "17.0360 MX_AF_AFORE_Anexo 55_LIII_21 Información de las fechas de envio de los paquetes de información a detalle\n",
      "17.2297 MX_BD_R24C_2431_00_22 Información de operaciones con partes relacionadas\n",
      "17.2297 MX_BM_R24C_2431_00_22 Información de operaciones con partes relacionadas\n",
      "17.9627 GT_BM_TCD_TCD_00_21 TCD INFORMACIÓN RELACIONADA CON TARJETAS DE CRÉDITO Y DÉBITO\n",
      "18.1901 GT_BM_SFM2_SFM2_00_22 SFM2 a INFORMACIÓN DE SERVICIOS FINANCIEROS MÓVILES\n",
      "18.4408 MX_IFPE_R24G_2470_00_22 INFORMACIÓN RELATIVA A CLIENTES Y OPERACIONES\n",
      "18.4951 GT_BM_TCD_TC_00_21 TC INFORMACIÓN RELACIONADAS CON TARJETA DE CREDITO\n",
      "18.6414 GT_BM_SFM1_SFM1_00_22 SFM1 a INFORMACIÓN DE SERVICIOS FINANCIEROS MÓVILES\n",
      "18.9151 MX_CB_SAT_DECLA_PREL_00_NI Declaración Anual Informativa de Partes Relacionadas\n",
      "18.9160 MX_BD_DERIVADOS_OPTO_10_22 ConvalidacioÓn de las opciones vigentes a la fecha de corte, de operaciones que fueron previamente reportadas en la SeccioÓn IX\n"
     ]
    }
   ],
   "source": [
    "# Dada un nuevo texto generamos su embedding y buscamos el más similar\n",
    "text=\"En qué reportes se envía información de partes relacionadas?\"\n",
    "embedding=transformer_model.encode(text.replace(\"reportes\", \"\"))\n",
    "# Buscamos el más cercano\n",
    "distances=[]\n",
    "for clave, info in data.items():\n",
    "    dist=np.linalg.norm(np.array(info[\"EMBEDDING\"])-np.array(embedding))\n",
    "    distances.append((dist, info))\n",
    "# Ordenamos por distancia\n",
    "distances.sort(key=lambda x: x[0])\n",
    "print(\"Más cercanos:\")\n",
    "# Guardamos los 10 mas cercasnos (solo CLAVE_REP)\n",
    "closest_ids=[]\n",
    "closest_ids=[info[\"CLAVE_REP\"] for _, info in distances[:10]]\n",
    "for dist, info in distances[:10]:\n",
    "    print(f\"{dist:.4f} {info['CLAVE_REP']} {info['DESCRIPCION_ESP']}\")\n",
    "    # Guardamos los IDs de los reportes más cercanos\n"
   ]
  },
  {
   "cell_type": "code",
   "execution_count": null,
   "id": "8cfd3103",
   "metadata": {},
   "outputs": [
    {
     "name": "stdout",
     "output_type": "stream",
     "text": [
      "4\n"
     ]
    }
   ],
   "source": [
    "import hjson\n",
    "prompt=\"cuáles CLAVE_REP se envían al CLAVE_REG IPAB? (VIGENTE=1)\"\n",
    "with open(\"../assets/replacements.hjson\", \"r\") as file:\n",
    "    replacements=hjson.load(file)\n",
    "count=0\n",
    "print(len(replacements))\n",
    "values=[]\n",
    "for text in replacements.values():\n",
    "    values.append(text)\n",
    "values=list(set(values))\n",
    "for text in values:\n",
    "    if text in prompt:\n",
    "        count+=1\n",
    "print(len(set(values)))\n",
    "print(count)"
   ]
  }
 ],
 "metadata": {
  "kernelspec": {
   "display_name": "venv",
   "language": "python",
   "name": "python3"
  },
  "language_info": {
   "codemirror_mode": {
    "name": "ipython",
    "version": 3
   },
   "file_extension": ".py",
   "mimetype": "text/x-python",
   "name": "python",
   "nbconvert_exporter": "python",
   "pygments_lexer": "ipython3",
   "version": "3.11.11"
  }
 },
 "nbformat": 4,
 "nbformat_minor": 5
}
