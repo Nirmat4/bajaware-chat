{
 "cells": [
  {
   "cell_type": "code",
   "execution_count": 1,
   "id": "12c91320",
   "metadata": {},
   "outputs": [],
   "source": [
    "import torch\n",
    "from transformers import AutoTokenizer, AutoModelForCausalLM\n",
    "import warnings\n",
    "import spacy\n",
    "from spacy.language import Language\n",
    "import re\n",
    "import hjson"
   ]
  },
  {
   "cell_type": "code",
   "execution_count": 2,
   "id": "2a52c659",
   "metadata": {},
   "outputs": [
    {
     "data": {
      "application/vnd.jupyter.widget-view+json": {
       "model_id": "a25661c3b3644a23bb6e0b3d7953cb33",
       "version_major": 2,
       "version_minor": 0
      },
      "text/plain": [
       "Loading checkpoint shards:   0%|          | 0/4 [00:00<?, ?it/s]"
      ]
     },
     "metadata": {},
     "output_type": "display_data"
    },
    {
     "name": "stderr",
     "output_type": "stream",
     "text": [
      "/home/josafat/Documentos/bajaware-ia/venv/lib/python3.11/site-packages/transformers/generation/configuration_utils.py:631: UserWarning: `do_sample` is set to `False`. However, `temperature` is set to `0` -- this flag is only used in sample-based generation modes. You should set `do_sample=True` or unset `temperature`. This was detected when initializing the generation config instance, which means the corresponding file may hold incorrect parameterization and should be fixed.\n",
      "  warnings.warn(\n",
      "/home/josafat/Documentos/bajaware-ia/venv/lib/python3.11/site-packages/transformers/generation/configuration_utils.py:631: UserWarning: `do_sample` is set to `False`. However, `temperature` is set to `0` -- this flag is only used in sample-based generation modes. You should set `do_sample=True` or unset `temperature`.\n",
      "  warnings.warn(\n",
      "Some parameters are on the meta device because they were offloaded to the disk.\n"
     ]
    },
    {
     "name": "stdout",
     "output_type": "stream",
     "text": [
      "True\n"
     ]
    }
   ],
   "source": [
    "model_path=\"../models/llama-3-sqlcoder-8b\"\n",
    "\n",
    "model=AutoModelForCausalLM.from_pretrained(model_path, torch_dtype=torch.bfloat16, device_map=\"auto\", max_memory={0: \"3800MB\"})\n",
    "tokenizer=AutoTokenizer.from_pretrained(model_path)\n",
    "print(torch.cuda.is_available())"
   ]
  },
  {
   "cell_type": "code",
   "execution_count": 3,
   "id": "28e1efe4",
   "metadata": {},
   "outputs": [
    {
     "name": "stdout",
     "output_type": "stream",
     "text": [
      "De los CLAVE_CONTRATO de esos CLAVE_CLIENTE, quienes tienen el reporte CLAVE_REP MX_SOF_R28A_2814_00 en su CLAVE_CONTRATO?\n"
     ]
    }
   ],
   "source": [
    "query=\"De los CLAVE_CONTRATO de esos CLAVE_CLIENTE, quienes tienen el reporte CLAVE_REP MX_SOF_R28A_2814_00 en su CLAVE_CONTRATO?\"\n",
    "print(query)"
   ]
  },
  {
   "cell_type": "code",
   "execution_count": 4,
   "id": "b476b48e",
   "metadata": {},
   "outputs": [],
   "source": [
    "text=f\"\"\"### Instruction:\n",
    "Your task is to generate valid duckdb SQL to answer the following question, given a duckdb database schema.\n",
    "\n",
    "### Input:\n",
    "Here is the database schema that the SQL query will run on:\n",
    "CREATE TABLE CONTRATOS_REPORTES (\n",
    "    ID_CONTRATO_REPORTES INT NOT NULL, -- Identificador único del contrato-reportes\n",
    "    CLAVE_CONTRATO VARCHAR(50) NOT NULL, -- Clave del contrato (relacionada con la tabla CONTRATOS)\n",
    "    CLAVE_REP VARCHAR(100) NOT NULL, -- Clave del reporte (relacionada con la tabla INVENTARIO_REPORTES)\n",
    "    FECHA_ESTIMADA_QA DATE NULL, -- Fecha estimada para QA\n",
    "    FECHA_INSTALADO_QA DATE NULL, -- Fecha de instalación en QA\n",
    "    FECHA_ESTIMADA_CERT DATE NULL, -- Fecha estimada para certificación\n",
    "    FECHA_CERTIFICADO DATE NULL, -- Fecha de certificación\n",
    "    FECHA_ESTIMADA_PROD DATE NULL, -- Fecha estimada para producción\n",
    "    FECHA_INSTALADO_PROD DATE NULL, -- Fecha de instalación en producción\n",
    "    ETAPA INT NULL, -- Etapa del contrato (puede ser un número entero)\n",
    "    EN_USO VARCHAR(2) NULL, -- Indicador de si el contrato está en uso (puede ser 'SI' o 'NO')\n",
    "    CONSTRAINT PK_CONTRATOS_REPORTES PRIMARY KEY (CLAVE_CONTRATO, CLAVE_REP) -- Clave primaria que garantiza la unicidad del contrato-reportes\n",
    ")\n",
    "\n",
    "CREATE TABLE CONTRATOS (\n",
    "    ID_CONTRATO INT NOT NULL, -- Identificador único del contrato\n",
    "    CLAVE_CONTRATO VARCHAR(50) NOT NULL, -- Clave del contrato\n",
    "    NOMBRE_CONTRATO VARCHAR(100) NOT NULL, -- Nombre del contrato\n",
    "    FECHA_ALTA DATE NOT NULL, -- Fecha de alta del contrato\n",
    "    FECHA_MODIFICA DATE NOT NULL, -- Fecha de ultima modificación del contrato\n",
    "    CLAVE_CLIENTE VARCHAR(50) NULL, -- Fecha de cliente\n",
    "    CLAVE_PLATAFORMA VARCHAR(10) NULL, -- Clave de la plataforma java o net\n",
    "    CONSTRAINT PK_CONTRATOS PRIMARY KEY (CLAVE_CONTRATO) -- Clave primaria que garantiza la unicidad del contrato\n",
    ")\n",
    "\n",
    "### Question:\n",
    "{query}\n",
    "\n",
    "### Response (use duckdb shorthand if possible):\"\"\""
   ]
  },
  {
   "cell_type": "code",
   "execution_count": 5,
   "id": "4153a336",
   "metadata": {},
   "outputs": [
    {
     "name": "stderr",
     "output_type": "stream",
     "text": [
      "Setting `pad_token_id` to `eos_token_id`:128001 for open-end generation.\n",
      "/home/josafat/Documentos/bajaware-ia/venv/lib/python3.11/site-packages/transformers/generation/utils.py:2345: UserWarning: You are calling .generate() with the `input_ids` being on a device type different than your model's device. `input_ids` is on cpu, whereas the model is on cuda. You may experience unexpected behaviors or slower generation. Please make sure that you have put `input_ids` to the correct device by calling for example input_ids = input_ids.to('cuda') before running `.generate()`.\n",
      "  warnings.warn(\n"
     ]
    },
    {
     "name": "stdout",
     "output_type": "stream",
     "text": [
      " SELECT c.clave_contrato FROM contratos c JOIN contratos_reportes cr ON c.clave_contrato = cr.clave_contrato WHERE cr.clave_rep = 'MX_SOF_R28A_2814_00';\n"
     ]
    }
   ],
   "source": [
    "inputs=tokenizer(text, return_tensors=\"pt\")\n",
    "input_ids=inputs[\"input_ids\"]\n",
    "attention_mask=inputs[\"attention_mask\"]\n",
    "\n",
    "generated_ids=model.generate(input_ids, attention_mask=attention_mask, max_new_tokens=256)\n",
    "response=(tokenizer.decode(generated_ids[0], skip_special_tokens=True)).replace(text, \"\")\n",
    "print(response)"
   ]
  }
 ],
 "metadata": {
  "kernelspec": {
   "display_name": "venv",
   "language": "python",
   "name": "python3"
  },
  "language_info": {
   "codemirror_mode": {
    "name": "ipython",
    "version": 3
   },
   "file_extension": ".py",
   "mimetype": "text/x-python",
   "name": "python",
   "nbconvert_exporter": "python",
   "pygments_lexer": "ipython3",
   "version": "3.11.11"
  }
 },
 "nbformat": 4,
 "nbformat_minor": 5
}
