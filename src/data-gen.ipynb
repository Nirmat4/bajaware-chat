{
 "cells": [
  {
   "cell_type": "code",
   "execution_count": 1,
   "id": "e34791ca",
   "metadata": {},
   "outputs": [],
   "source": [
    "verbos=[\"entregan\", \"sirven\", \"utilizan\", \"generan\", \"procesan\", \"almacenan\", \"requieren\", \"modifican\", \"eliminan\", \"consultan\", \"validan\", \"revisan\", \"actualizan\", \"publican\", \"distribuyen\", \"envían\", \"reciben\", \"cargan\", \"clasifican\", \"vinculan\", \"asignan\", \"transfieren\", \"archivan\", \"comparan\", \"sincronizan\", \"notifican\", \"calculan\", \"analizan\", \"visualizan\", \"protegen\", \"auditan\", \"compilan\"]\n",
    "docs=[\"validaciones\", \"reportes\", \"clientes\", \"entidades\", \"contratos\"]\n",
    "preguntas=[\"Que\", \"Por que\", \"Cuales\", \"Para que\"]\n",
    "pase=[\"se\", \"los\"]"
   ]
  },
  {
   "cell_type": "code",
   "execution_count": 2,
   "id": "eba9f356",
   "metadata": {},
   "outputs": [],
   "source": [
    "preguntas=[]\n",
    "for verbo in verbos:\n",
    "    for doc in docs:\n",
    "        preguntas.append(f\"Que {doc} se {verbo} ?\")\n",
    "\n",
    "for verbo in verbos:\n",
    "    for doc in docs:\n",
    "        preguntas.append(f\"Por que los {doc} se {verbo} ?\")\n",
    "\n",
    "for doc in docs:\n",
    "    preguntas.append(f\"Cuales son esos {doc} ?\")\n",
    "\n",
    "for verbo in verbos:\n",
    "    for doc in docs:\n",
    "        preguntas.append(f\"Para que se {verbo} esos {doc} ?\")\n",
    "\n",
    "for verbo in verbos:\n",
    "    for doc in docs:\n",
    "        preguntas.append(f\"Como se {verbo} esos {doc} ?\")"
   ]
  },
  {
   "cell_type": "code",
   "execution_count": 3,
   "id": "1220a824",
   "metadata": {},
   "outputs": [],
   "source": [
    "with open(\"temp.txt\", \"w\") as file:\n",
    "    for pregunta in preguntas:\n",
    "        file.write(f\"{pregunta}, \")\n",
    "    file.write(\"Cuales son ?, Para que sirven ?\")"
   ]
  }
 ],
 "metadata": {
  "kernelspec": {
   "display_name": "venv",
   "language": "python",
   "name": "python3"
  },
  "language_info": {
   "codemirror_mode": {
    "name": "ipython",
    "version": 3
   },
   "file_extension": ".py",
   "mimetype": "text/x-python",
   "name": "python",
   "nbconvert_exporter": "python",
   "pygments_lexer": "ipython3",
   "version": "3.11.11"
  }
 },
 "nbformat": 4,
 "nbformat_minor": 5
}
