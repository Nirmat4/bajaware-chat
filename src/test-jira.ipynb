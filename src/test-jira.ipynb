{
 "cells": [
  {
   "cell_type": "code",
   "execution_count": 1,
   "id": "ea14511c",
   "metadata": {},
   "outputs": [],
   "source": [
    "import requests  # Importa la biblioteca para realizar solicitudes HTTP\n",
    "import json  # Importa la biblioteca para manejar datos en formato JSON"
   ]
  },
  {
   "cell_type": "code",
   "execution_count": 2,
   "id": "5315d967",
   "metadata": {},
   "outputs": [],
   "source": [
    "\n",
    "def request_tickets(issues, cliente_busqueda, prioridad_busqueda, status_busqueda, page, sort_order):\n",
    "    \"\"\"\n",
    "    Función para obtener tickets de Jira mediante su API REST.\n",
    "    \n",
    "    Parámetros:\n",
    "    - issues: Lista donde se almacenarán los tickets obtenidos\n",
    "    - cliente_busqueda: Filtro por cliente\n",
    "    - prioridad_busqueda: Filtro por prioridad\n",
    "    - status_busqueda: Filtro por estado del ticket\n",
    "    - page: Número de página para la paginación\n",
    "    - sort_order: Criterio de ordenamiento\n",
    "    \"\"\"\n",
    "    print(f\"Buscando tickets para el cliente: {cliente_busqueda}\")\n",
    "    # Configuración del cliente REST con la URL base de Jira\n",
    "    base_url = \"https://bajaware.atlassian.net\"\n",
    "    # Credenciales de autenticación para la API de Jira (usuario y token)\n",
    "    auth = (\"dmoncivais@bajaware.com\", \"ATATT3xFfGF0j2KBKb7Pqq1T4oJtuX84Zb9YpfLsc4c6ZRBkgOiljgIswRATjWMksHPbZLXy5aJzMya1YKJKisfLYOoyW4Rb6fq1PAi7__JnLGcRr7zQeG1xRUt6NXOF6WK7eora0pX6TlFRIS3WH66baE8ja665Mn9hGpzNpn19IHZuuvCKfPU=59FC5052\")\n",
    "    print(f\"Autenticación exitosa\")\n",
    "    # Inicializa el contador total de tickets\n",
    "    total = 0\n",
    "    # Comienza a construir la URL de la consulta JQL para el proyecto \"BS\"\n",
    "    req = \"/rest/api/3/search?jql=project=\\\"BS\\\"\"\n",
    "    print(f\"URL de la consulta: {base_url}{req}\")\n",
    "    # Agrega parámetros de ordenamiento si se especificaron\n",
    "    if sort_order != \"\":\n",
    "        req += \"+order+By+\"  # Añade la cláusula de ordenamiento\n",
    "        sort = sort_order.split('_')  # Divide el criterio de ordenamiento\n",
    "        req += sort[0] + \"+\"  # Agrega el campo por el cual ordenar\n",
    "        if len(sort) > 1:  # Si hay un segundo elemento, indica orden descendente\n",
    "            req += \"DESC\"\n",
    "    print(f\"Criterio de ordenamiento: {sort_order}\")\n",
    "    # Agrega filtros a la consulta si se especificaron\n",
    "    if cliente_busqueda != \"\":\n",
    "        # Filtro por cliente usando el campo personalizado 10500\n",
    "        req += f\"&\\\"cf[10500]\\\"=\\\"{cliente_busqueda}\\\"\"\n",
    "    if prioridad_busqueda != \"\":\n",
    "        # Filtro por prioridad usando el campo personalizado 11208\n",
    "        req += f\"&\\\"cf[11208]\\\"=\\\"{prioridad_busqueda}\\\"\"\n",
    "    if status_busqueda != \"\":\n",
    "        # Filtro por estado del ticket\n",
    "        req += f\"&\\\"status\\\"=\\\"{status_busqueda}\\\"\"\n",
    "    print(f\"Filtros aplicados: {req}\")\n",
    "    # Configura la paginación\n",
    "    start = page - 1 if page == 1 else (page - 1) * 100  # Calcula el índice de inicio\n",
    "    # Agrega parámetros adicionales: fecha de creación, campos a devolver, resultados máximos e índice de inicio\n",
    "    req += f\"&\\\"created\\\">=\\\"2018/12/31\\\"&fields=customfield_10500,key,status,created,summary,resolved,resolution,assignee,customfield_11208,customfield_10705&maxResults={-1}&startAt={start}\"\n",
    "    print(f\"URL de la consulta con filtros: {base_url}{req}\")\n",
    "    # Ejecuta la solicitud HTTP GET a la API de Jira\n",
    "    response = requests.get(f\"{base_url}{req}\", auth=auth)\n",
    "    print(f\"Respuesta de la consulta: {response.status_code}\")\n",
    "    # Procesa la respuesta\n",
    "    if response.status_code == 200:  # Si la solicitud fue exitosa\n",
    "        data = response.json()  # Convierte la respuesta JSON a un diccionario Python\n",
    "        total = data[\"total\"]  # Obtiene el número total de tickets\n",
    "        issues.extend(data[\"issues\"])  # Agrega los tickets a la lista proporcionada\n",
    "    else:\n",
    "        # Si la solicitud falló, imprime información de error\n",
    "        print(f\"Request failed: {response.status_code}\")\n",
    "        print(response.text)\n",
    "        return -1  # Retorna -1 para indicar error\n",
    "    \n",
    "    # Retorna el número total de tickets encontrados\n",
    "    return total"
   ]
  },
  {
   "cell_type": "code",
   "execution_count": 3,
   "id": "f3a72413",
   "metadata": {},
   "outputs": [
    {
     "name": "stdout",
     "output_type": "stream",
     "text": [
      "Buscando tickets para el cliente: \n",
      "Autenticación exitosa\n",
      "URL de la consulta: https://bajaware.atlassian.net/rest/api/3/search?jql=project=\"BS\"\n",
      "Criterio de ordenamiento: \n",
      "Filtros aplicados: /rest/api/3/search?jql=project=\"BS\"\n",
      "URL de la consulta con filtros: https://bajaware.atlassian.net/rest/api/3/search?jql=project=\"BS\"&\"created\">=\"2018/12/31\"&fields=customfield_10500,key,status,created,summary,resolved,resolution,assignee,customfield_11208,customfield_10705&maxResults=-1&startAt=0\n",
      "Respuesta de la consulta: 200\n",
      "Total de tickets encontrados: 5900\n",
      "Tickets obtenidos: 5900\n",
      "✅ Tickets guardados en tickets.json\n"
     ]
    }
   ],
   "source": [
    "issues = []\n",
    "cliente_busqueda = \"\"\n",
    "prioridad_busqueda = \"\"\n",
    "status_busqueda = \"\"\n",
    "page = 1\n",
    "sort_order = \"\"\n",
    "\n",
    "total_issues = request_tickets(issues, cliente_busqueda, prioridad_busqueda, status_busqueda, page, sort_order)\n",
    "\n",
    "print(f\"Total de tickets encontrados: {total_issues}\")\n",
    "print(f\"Tickets obtenidos: {len(issues)}\")\n",
    "\n",
    "# Guardar los tickets en un archivo JSON\n",
    "with open('tickets.json', 'w', encoding='utf-8') as f:\n",
    "    json.dump(issues, f, ensure_ascii=False, indent=4)\n",
    "\n",
    "print(\"✅ Tickets guardados en tickets.json\")"
   ]
  }
 ],
 "metadata": {
  "kernelspec": {
   "display_name": "venv",
   "language": "python",
   "name": "python3"
  },
  "language_info": {
   "codemirror_mode": {
    "name": "ipython",
    "version": 3
   },
   "file_extension": ".py",
   "mimetype": "text/x-python",
   "name": "python",
   "nbconvert_exporter": "python",
   "pygments_lexer": "ipython3",
   "version": "3.11.11"
  }
 },
 "nbformat": 4,
 "nbformat_minor": 5
}
